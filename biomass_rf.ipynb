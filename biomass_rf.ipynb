{
 "cells": [
  {
   "cell_type": "markdown",
   "id": "a3c900ec-eac7-47d5-b3d7-4aae95b0b874",
   "metadata": {},
   "source": [
    "## Biomassi mudeldamine masinõppega\n",
    "\n",
    "Selle skriptiga saad Google Earth Engine'ist saadud tulemuste ja välitööde faili põhjal luua Random Forest masinõppe mudeli. Töö lihtsustamiseks on csv failid juba pilve laetud ning skript loeb need ise pilvest sisse. Skripti kasutamiseks mine hiirega esimesele kastile ja vajuta \"Run\" nuppu, et koodiplokk läbi jooksutada, tee sama ka järgmiste plokkidega. Kui midagi valesti läheb, saad lihtsa vaevaga uuesti algusest alustada."
   ]
  },
  {
   "cell_type": "markdown",
   "id": "b3a93b2b-fa48-49b0-b9b7-86b85fc34d6d",
   "metadata": {},
   "source": [
    "### Andmete sisse lugemine ja ettevalmistamine"
   ]
  },
  {
   "cell_type": "code",
   "execution_count": null,
   "id": "62fb9902-8cb3-43b5-92f2-d243109abedc",
   "metadata": {},
   "outputs": [],
   "source": [
    "# laeme alla vajalikud paketid\n",
    "import seaborn as sns\n",
    "import numpy as np\n",
    "import geopandas as gpd\n",
    "from sklearn.model_selection import train_test_split\n",
    "from sklearn.ensemble import RandomForestRegressor\n",
    "from joblib import dump, load\n",
    "from sklearn.metrics import r2_score\n",
    "import shap\n",
    "import matplotlib.pyplot as plt\n",
    "import pandas as pd\n",
    "import random\n",
    "from sklearn.metrics import mean_squared_error\n",
    "from IPython.display import FileLink"
   ]
  },
  {
   "cell_type": "code",
   "execution_count": null,
   "id": "95dae277-d3b2-4b22-9320-98fb5cea1731",
   "metadata": {},
   "outputs": [],
   "source": [
    "# loeme sisse kaugseire andmetega faili, fail on juba eelnevalt GitHubi laetud, eraldi seda laadima ei pea\n",
    "fp = \"data/biomass_2019_results.csv\"\n",
    "obs_data = pd.read_csv(fp)\n",
    "# kontrollime andmestikku, vaadates esimest viit rida\n",
    "obs_data.head(5)"
   ]
  },
  {
   "cell_type": "code",
   "execution_count": null,
   "id": "d35e22cd-3282-4057-8a87-3352a1e537af",
   "metadata": {},
   "outputs": [],
   "source": [
    "# loeme sisse välitööde csv faili, fail on juba eelnevalt GitHubi laetud, eraldi seda laadima ei pea\n",
    "fp = \"data/fieldwork_data.csv\"\n",
    "fieldwork = pd.read_csv(fp)\n",
    "# kontrollime andmestikku, vaadates esimest viit rida\n",
    "fieldwork.head(5)"
   ]
  },
  {
   "cell_type": "code",
   "execution_count": null,
   "id": "5c370276-6ec5-4214-b29c-a5dac4088120",
   "metadata": {},
   "outputs": [],
   "source": [
    "# liidame kihid kokku uurimisala ID alusel\n",
    "data = obs_data.merge(fieldwork, on=\"ID\", how=\"left\", suffixes=('', '_fw'))"
   ]
  },
  {
   "cell_type": "code",
   "execution_count": null,
   "id": "86c0383c-d47e-4d3f-b1b9-beb5a3030208",
   "metadata": {},
   "outputs": [],
   "source": [
    "# kontrollime, et kõik uurimisalad esineksid andmestikus ühe korra\n",
    "if data[\"ID\"].is_unique:\n",
    "    print(\"Kõik ID-d on unikaalsed.\")\n",
    "else:\n",
    "    print(\"Mõni ID esineb rohkem kui üks kord.\")"
   ]
  },
  {
   "cell_type": "code",
   "execution_count": null,
   "id": "17f9b981-c1cc-4d1c-b384-205f6c783f90",
   "metadata": {},
   "outputs": [],
   "source": [
    "# puhastame andmestikku, jättes alles vaid vajalikud veerud\n",
    "data = data[[\"B1\", \"B2\", \"B3\", \"B4\", \"B5\", \"B6\", \"B7\", \"B8\", \"B8A\", \"B9\", \"B11\", \"B12\", \"ID\", \"Biomass_tha\", \"Biomass_womoss_tha\", \"VH\", \"VV\", \"VV/VH\", \"BSI\", \"NDVI\", \"Restoration\", \"Subsite\", \"X\", \"Y\", \"Tree_cover_10m_radius\", \"Shrub_cover_10m_radius\", \"Herb_layer_height_1x1m_cm\", \"Herb_cover_1x1m\"]]\n",
    "data.columns"
   ]
  },
  {
   "cell_type": "code",
   "execution_count": null,
   "id": "8d24c0a9-c367-4bcf-a64c-5f6fa2eb4922",
   "metadata": {},
   "outputs": [],
   "source": [
    "# kontrollime, kuidas jagunevad uurimisala tüübid\n",
    "data[\"Subsite\"].value_counts()"
   ]
  },
  {
   "cell_type": "code",
   "execution_count": null,
   "id": "6844736b-ca51-4d42-92c2-6d9498b55671",
   "metadata": {},
   "outputs": [],
   "source": [
    "# eraldame vaid numbrilised veerud korrelatsioonimaatriksi arvutamiseks\n",
    "data_num = data.drop([\"ID\", \"Subsite\", \"Restoration\"], axis=1)\n",
    "# kontrollime, et kõik veerud oleksid float või int\n",
    "data_num.dtypes"
   ]
  },
  {
   "cell_type": "code",
   "execution_count": null,
   "id": "226c7dc3-1f25-4810-9395-f1aee5c657fb",
   "metadata": {},
   "outputs": [],
   "source": [
    "# kuvame korrelatsioonimaatriksi\n",
    "correlation_matrix = data_num.corr()\n",
    "\n",
    "plt.figure(figsize=(10, 8))\n",
    "\n",
    "sns.heatmap(correlation_matrix, cmap='coolwarm', fmt='.2f', square=True, \n",
    "            cbar_kws={\"shrink\": .8}, linewidths=0.5)\n",
    "\n",
    "plt.title('Korrelatsioonimaatriks')\n",
    "plt.xticks(rotation=90)\n",
    "plt.yticks(rotation=0)   \n",
    "\n",
    "plt.tight_layout()\n",
    "plt.show()"
   ]
  },
  {
   "cell_type": "code",
   "execution_count": null,
   "id": "d931d9ac-7b13-4c95-a527-841bbe20a8f8",
   "metadata": {},
   "outputs": [],
   "source": [
    "# loome uuritava väärtuse histogrammi\n",
    "feature = 'Biomass_womoss_tha'\n",
    "\n",
    "plt.figure(figsize=(6, 4))\n",
    "data[feature].hist(bins=30, color='skyblue', edgecolor='black')\n",
    "plt.title(f'Histogram of {feature}')\n",
    "plt.xlabel(feature)\n",
    "plt.ylabel('Frequency')\n",
    "plt.tight_layout()\n",
    "plt.show()"
   ]
  },
  {
   "cell_type": "code",
   "execution_count": null,
   "id": "bd82b4b3-c8eb-4e1d-a315-75409ba1d532",
   "metadata": {},
   "outputs": [],
   "source": [
    "# eraldame andmestikust mitte-metsastunud uurimisalad. metsastunud uurimisaladel on väga vähe rohtset biomassi ning seda on satelliitidel puude alt raske tuvastada\n",
    "cleaned = data[data[\"Subsite\"] != \"Afforested\"]\n",
    "# loeme allesjäänud uurimisalad kokku\n",
    "len(cleaned)"
   ]
  },
  {
   "cell_type": "markdown",
   "id": "346ee5cb-1237-4221-9520-1809cc79af52",
   "metadata": {},
   "source": [
    "### Masinõppe mudel\n",
    "Järgnevalt jagame andmed treening- ja testimisandmeteks ning loome Random Forest regressiooni mudeli. Tavapäraselt jäetakse 70% andmetest mudeli treenimiseks ja 30% testimiseks. Võid proovida ka 80/20 jagamist.\n",
    "Mudeldatavaks väärtuseks on rohtne biomass ehk Biomass_womoss_tha."
   ]
  },
  {
   "cell_type": "code",
   "execution_count": null,
   "id": "92932158-3ba3-4985-998a-c8dbe3e8e10a",
   "metadata": {},
   "outputs": [],
   "source": [
    "# eraldame mudeli sisendid (X) ja ennustatava väärtuse (Y)\n",
    "# müra vältimiseks valime mudelisse vegetatsiooniga seotud kanalid\n",
    "X = cleaned[[\"B6\", \"B8\", \"B12\", \"BSI\", \"VH\", \"NDVI\"]]\n",
    "y = cleaned[\"Biomass_womoss_tha\"]"
   ]
  },
  {
   "cell_type": "code",
   "execution_count": null,
   "id": "1e5f9f06-a7f7-449a-80fb-5eaa2345242f",
   "metadata": {},
   "outputs": [],
   "source": [
    "# jagame andmestiku treening-(70%) ja testandmeteks(30%)\n",
    "\n",
    "test_size = 0.3\n",
    "random_state = 42\n",
    "X_train, X_test, y_train, y_test = train_test_split(X, y, test_size = test_size, random_state = random_state)\n",
    "\n",
    "len(X_train)"
   ]
  },
  {
   "cell_type": "markdown",
   "id": "f2cbecc9-94d6-4c58-be8e-9b36ad0fca9c",
   "metadata": {},
   "source": [
    "Järgmiseks otsime mudelile parimaid hüperparameetreid, proovime erinevaid kombinatsioone puude arvu (n_estimators), puu maksimaalse sügavuse (max_depth) ja lehe minimaalse vaatluste arvu (min_samples_leaf) vahel. Järjestame kombinatsioonid parima treening R2 alusel."
   ]
  },
  {
   "cell_type": "code",
   "execution_count": null,
   "id": "bf15bd93-1963-47c6-8ce7-c3c4a571311b",
   "metadata": {},
   "outputs": [],
   "source": [
    "# otsime optimaalsemaid hüperparameetreid\n",
    "\n",
    "results = []\n",
    "\n",
    "for est in [50, 75, 100]:\n",
    "    for depth in [3, 5, 7]:\n",
    "        for leaf in [3, 5, 10]:\n",
    "                rf = RandomForestRegressor(\n",
    "                    n_estimators=est,\n",
    "                    max_depth=depth,\n",
    "                    min_samples_leaf=leaf,\n",
    "                    max_features='sqrt',\n",
    "                    random_state=random_state)\n",
    "                rf.fit(X_train, y_train)\n",
    "                train_r2 = r2_score(y_train, rf.predict(X_train))\n",
    "                test_r2 = r2_score(y_test, rf.predict(X_test))\n",
    "                \n",
    "                results.append({\n",
    "                    'n_estimators': est,\n",
    "                    'max_depth': depth,\n",
    "                    'min_samples_leaf': leaf,\n",
    "                    'train_r2': train_r2,\n",
    "                    'test_r2': test_r2})\n",
    "\n",
    "results_df = pd.DataFrame(results)\n",
    "\n",
    "results_df = results_df.sort_values(by='test_r2', ascending=False)\n",
    "\n",
    "print(results_df.head(20))"
   ]
  },
  {
   "cell_type": "markdown",
   "id": "06c566eb-2b06-4dd5-9498-15d89de76d22",
   "metadata": {},
   "source": [
    "**NB! Sisesta järgmisesse koodiplokki parimad hüperparameetrid eelmisest koodiplokist, \n",
    "nt \n",
    "n_estimators=50, \n",
    "max_depth=7, \n",
    "min_samples_leaf=3**"
   ]
  },
  {
   "cell_type": "code",
   "execution_count": null,
   "id": "0ae10807-8fa3-462a-b165-f910920cc529",
   "metadata": {},
   "outputs": [],
   "source": [
    "# sisesta parimad hüperparameetrid\n",
    "regressor = RandomForestRegressor(\n",
    "    n_estimators= SIIA PARIM n_estimators,\n",
    "    max_depth= SIIA PARIM max_depth,\n",
    "    min_samples_leaf= SIIA PARIM min_samples_leaf,\n",
    "    max_features='sqrt',\n",
    "    random_state=random_state)\n",
    "\n",
    "# treenime mudeli\n",
    "regressor.fit(X_train, y_train)"
   ]
  },
  {
   "cell_type": "code",
   "execution_count": null,
   "id": "555c3274-2504-412b-aea2-4ed00b0f8b50",
   "metadata": {},
   "outputs": [],
   "source": [
    "# arvutame treeningandmete R2\n",
    "r2_training = regressor.score(X_train, y_train)\n",
    "print(f\"Treeningandmete R2: {r2_training:.2f}\")"
   ]
  },
  {
   "cell_type": "code",
   "execution_count": null,
   "id": "849692c4-322e-4e1b-9374-bf4926a6663b",
   "metadata": {},
   "outputs": [],
   "source": [
    "# ennustame testimisandmetele\n",
    "y_train_pred = regressor.predict(X_train)\n",
    "y_test_pred = regressor.predict(X_test)\n",
    "\n",
    "# arvutame testimisandmete R2\n",
    "r2_testing = r2_score(y_test, y_test_pred)\n",
    "print(f\"Testimisandmete R2: {r2_testing:.2f}\")"
   ]
  },
  {
   "cell_type": "code",
   "execution_count": null,
   "id": "22562ac1-1848-4ae6-8d3c-59712bf272a9",
   "metadata": {},
   "outputs": [],
   "source": [
    "rmse_train = np.sqrt(mean_squared_error(y_train, y_train_pred))\n",
    "rmse_test = np.sqrt(mean_squared_error(y_test, y_test_pred))\n",
    "\n",
    "print(f\"Treeningandmete ruutkeskmine viga (RMSE): {rmse_train:.2f}\")\n",
    "print(f\"Testimisandmete ruutkeskmine viga (RMSE): {rmse_test:.2f}\")"
   ]
  },
  {
   "cell_type": "markdown",
   "id": "f67255ed-7833-403c-8d46-f169f8a55187",
   "metadata": {},
   "source": [
    "## Mudeli analüüsimine ja tulemuste visualiseerimine\n",
    "Järgmiseks arvutame mudeli SHAP väärtused. SHAP väärtused näitavad, kui palju iga tunnus panustab mudeli väljundisse. Sh näitavad need ka suunda, näiteks kõrge BSI (bare soil index) puhul on prognoositav biomassi mass väiksem, kõrge NDVI puhul aga suurem."
   ]
  },
  {
   "cell_type": "code",
   "execution_count": null,
   "id": "ee048b4a-3412-4e8f-b4fe-2ec0d605233f",
   "metadata": {},
   "outputs": [],
   "source": [
    "# arvutame SHAP väärtused mudeli paremaks mõistmiseks\n",
    "explainer = shap.TreeExplainer(regressor)\n",
    "shap_values = explainer.shap_values(X_train)\n",
    "\n",
    "# visualiseerime SHAP väärtuseid\n",
    "shap.summary_plot(shap_values=shap_values, features=X_train, feature_names=X_train.columns, plot_type=\"bar\")"
   ]
  },
  {
   "cell_type": "code",
   "execution_count": null,
   "id": "34dbc703-241f-4557-a5de-b7ac1ca6171a",
   "metadata": {
    "scrolled": true
   },
   "outputs": [],
   "source": [
    "shap.summary_plot(shap_values=shap_values, features=X_train, feature_names=X_train.columns)"
   ]
  },
  {
   "cell_type": "markdown",
   "id": "cdad0cfb-c3ae-47c7-9431-990c6faf1647",
   "metadata": {},
   "source": [
    "Viimaseks visualiseerime ennustatud vs tegelikke biomassi väärtuseid. Lisa joonise pealkirja oma nimi."
   ]
  },
  {
   "cell_type": "code",
   "execution_count": null,
   "id": "9e1fde6a-6260-4d79-8312-98ddf4404639",
   "metadata": {},
   "outputs": [],
   "source": [
    "# visualiseerime masinõppe tulemusi\n",
    "fig, axes = plt.subplots(1, 2, figsize=(12, 6))\n",
    "\n",
    "axes[0].scatter(y_train, y_train_pred, color='blue', alpha=0.6)\n",
    "axes[0].plot([y_train.min(), y_train.max()], [y_train.min(), y_train.max()], '--k')\n",
    "axes[0].set_xlabel('Tegelik rohtne biomass (t/ha)')\n",
    "axes[0].set_ylabel('Ennustatud rohtne biomass (t/ha)')\n",
    "axes[0].set_title(f'Treenimisandmed\\n$R^2$ = {r2_training:.2f}')\n",
    "\n",
    "axes[1].scatter(y_test, y_test_pred, color='green', alpha=0.6)\n",
    "axes[1].plot([y_test.min(), y_test.max()], [y_test.min(), y_test.max()], '--k')\n",
    "axes[1].set_xlabel('Tegelik rohtne biomass (t/ha)')\n",
    "axes[1].set_ylabel('Ennustatud rohtne biomass (t/ha)')\n",
    "axes[1].set_title(f'Testimisandmed\\n$R^2$ = {r2_testing:.2f}')\n",
    "\n",
    "# LISA joonise pealkirja oma nimi\n",
    "fig.suptitle('Biomassi Random Forest mudel, SINU NIMI', fontsize=14)\n",
    "\n",
    "plt.tight_layout()\n",
    "\n",
    "plt.show()\n",
    "\n",
    "print(\"Lae joonis alla siit:\")\n",
    "FileLink('2019_biomass_model.jpg')"
   ]
  },
  {
   "cell_type": "markdown",
   "id": "10bc9504-3536-4943-9173-f94a60d41ae9",
   "metadata": {},
   "source": [
    "**Harjutuse lõpp – esita ülesande tulemusena oma nimega joonis ning mõnelauseline kokkuvõte tehtust.**"
   ]
  }
 ],
 "metadata": {
  "kernelspec": {
   "display_name": "geopython2025",
   "language": "python",
   "name": "geopython2025"
  },
  "language_info": {
   "codemirror_mode": {
    "name": "ipython",
    "version": 3
   },
   "file_extension": ".py",
   "mimetype": "text/x-python",
   "name": "python",
   "nbconvert_exporter": "python",
   "pygments_lexer": "ipython3",
   "version": "3.11.11"
  }
 },
 "nbformat": 4,
 "nbformat_minor": 5
}
